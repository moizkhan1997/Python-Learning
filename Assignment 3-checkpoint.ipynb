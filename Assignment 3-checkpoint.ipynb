{
 "cells": [
  {
   "cell_type": "code",
   "execution_count": 3,
   "id": "d75ff7ba",
   "metadata": {},
   "outputs": [
    {
     "name": "stdout",
     "output_type": "stream",
     "text": [
      "Twinkle, twinkle, little star,\n",
      "       How I wonder what you are!\n",
      "               Up above the world so high,\n",
      "               Like a diamond in the sky.\n",
      "Twinkle, twinkle, little star,\n",
      "       How I wonder what you are\n"
     ]
    }
   ],
   "source": [
    "line1 =\"Twinkle, twinkle, little star,\"\n",
    "line2 =\"\\n       How I wonder what you are!\"\n",
    "line3 =\"\\n               Up above the world so high,\"\n",
    "line4 =\"\\n               Like a diamond in the sky.\"\n",
    "line5 =\"\\nTwinkle, twinkle, little star,\"\n",
    "line6 =\"\\n       How I wonder what you are\"\n",
    "\n",
    "print (line1 + line2 + line3 + line4 + line5 + line6);"
   ]
  },
  {
   "cell_type": "code",
   "execution_count": 6,
   "id": "e8fa72f0",
   "metadata": {},
   "outputs": [
    {
     "name": "stdout",
     "output_type": "stream",
     "text": [
      "3.8.8 (default, Apr 13 2021, 15:08:03) [MSC v.1916 64 bit (AMD64)]\n"
     ]
    }
   ],
   "source": [
    "#SIR ap nay ye cheezan nahi sikhai Google karna para in k lie\n",
    "\n",
    "import sys\n",
    "print(sys.version);"
   ]
  },
  {
   "cell_type": "code",
   "execution_count": 17,
   "id": "9e715a43",
   "metadata": {},
   "outputs": [
    {
     "name": "stdout",
     "output_type": "stream",
     "text": [
      "25-10-21\n",
      "17:57:39\n"
     ]
    }
   ],
   "source": [
    "import datetime\n",
    "now = datetime.datetime.now()\n",
    "print(now.strftime(\"%d-%m-%y\\n%H:%M:%S\"));"
   ]
  },
  {
   "cell_type": "code",
   "execution_count": 22,
   "id": "743a9db0",
   "metadata": {},
   "outputs": [
    {
     "name": "stdout",
     "output_type": "stream",
     "text": [
      "Enter the radius of a circle : 50\n",
      "7853.974999999999\n"
     ]
    }
   ],
   "source": [
    "#formula for calculating area of circle is (A = π r²) and pi value is 3.14159 so we need only radius.\n",
    "r = input (\"Enter the radius of a circle : \")\n",
    "A = 3.14159*int(r)**2\n",
    "# ** = power :) \n",
    "print(A);"
   ]
  },
  {
   "cell_type": "code",
   "execution_count": 25,
   "id": "f9e880b5",
   "metadata": {},
   "outputs": [
    {
     "name": "stdout",
     "output_type": "stream",
     "text": [
      "Enter your first Name : Moiz\n",
      "Enter your last Name : Khan\n",
      "['n', 'a', 'h', 'K', 'z', 'i', 'o', 'M']\n"
     ]
    }
   ],
   "source": [
    "#Kafi reserch karni pare sirr is k lie like 1 hour \n",
    "firstName = input(\"Enter your first Name : \")\n",
    "lastName = input(\"Enter your last Name : \")\n",
    "arr1 = list(firstName)\n",
    "arr2 = list(lastName)\n",
    "res1 = arr1[::-1]\n",
    "res2 = arr2[::-1]\n",
    "print( res2 + res1);"
   ]
  },
  {
   "cell_type": "code",
   "execution_count": 29,
   "id": "00961049",
   "metadata": {},
   "outputs": [
    {
     "name": "stdout",
     "output_type": "stream",
     "text": [
      "Enter the first number :15\n",
      "Enter the Second number:15\n",
      "30\n"
     ]
    }
   ],
   "source": [
    "x = input (\"Enter the first number :\")\n",
    "y = input (\"Enter the Second number:\")\n",
    "c = int(x) + int(y)\n",
    "print (c);\n"
   ]
  },
  {
   "cell_type": "code",
   "execution_count": null,
   "id": "b5096cc7",
   "metadata": {},
   "outputs": [],
   "source": [
    "eng = input (\"Enter the Marks of English\")\n",
    "urdu = input (\"Enter the Marks of Urdu\")\n",
    "maths = input (\"Enter the Marks of Mathematics\")\n",
    "comp = input (\"Enter the Marks of Computer\")\n",
    "sci = input (\"Enter the Marks of Science\")\n",
    "total = 500\n",
    "obtained = int(eng) + int(urdu) + int(maths) + int(comp) + int(sci)\n",
    "percentage\n"
   ]
  }
 ],
 "metadata": {
  "kernelspec": {
   "display_name": "Python 3",
   "language": "python",
   "name": "python3"
  },
  "language_info": {
   "codemirror_mode": {
    "name": "ipython",
    "version": 3
   },
   "file_extension": ".py",
   "mimetype": "text/x-python",
   "name": "python",
   "nbconvert_exporter": "python",
   "pygments_lexer": "ipython3",
   "version": "3.8.8"
  }
 },
 "nbformat": 4,
 "nbformat_minor": 5
}
